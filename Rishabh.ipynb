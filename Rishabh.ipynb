{
  "nbformat": 4,
  "nbformat_minor": 0,
  "metadata": {
    "colab": {
      "provenance": [],
      "authorship_tag": "ABX9TyN8q4QzsClWiNYDG6SEigVX",
      "include_colab_link": true
    },
    "kernelspec": {
      "name": "python3",
      "display_name": "Python 3"
    },
    "language_info": {
      "name": "python"
    }
  },
  "cells": [
    {
      "cell_type": "markdown",
      "metadata": {
        "id": "view-in-github",
        "colab_type": "text"
      },
      "source": [
        "<a href=\"https://colab.research.google.com/github/rishabhjainvit/Data_Analyst_Python/blob/main/Rishabh.ipynb\" target=\"_parent\"><img src=\"https://colab.research.google.com/assets/colab-badge.svg\" alt=\"Open In Colab\"/></a>"
      ]
    },
    {
      "cell_type": "code",
      "execution_count": null,
      "metadata": {
        "id": "fic9uW_JH9fw"
      },
      "outputs": [],
      "source": [
        "a=10\n"
      ]
    },
    {
      "cell_type": "code",
      "source": [
        "a='q'"
      ],
      "metadata": {
        "id": "4FMBdrRSJiLq"
      },
      "execution_count": null,
      "outputs": []
    },
    {
      "cell_type": "code",
      "source": [
        "type(a)"
      ],
      "metadata": {
        "colab": {
          "base_uri": "https://localhost:8080/"
        },
        "id": "Lq7Y0hTEJk5q",
        "outputId": "eba20aa7-dacd-4027-bce0-2706f54e1453"
      },
      "execution_count": null,
      "outputs": [
        {
          "output_type": "execute_result",
          "data": {
            "text/plain": [
              "int"
            ]
          },
          "metadata": {},
          "execution_count": 2
        }
      ]
    },
    {
      "cell_type": "code",
      "source": [
        "int()"
      ],
      "metadata": {
        "colab": {
          "base_uri": "https://localhost:8080/"
        },
        "id": "WSFUfiONJyqp",
        "outputId": "ed6c3d82-6fa4-45c3-8446-aef78c196222"
      },
      "execution_count": null,
      "outputs": [
        {
          "output_type": "execute_result",
          "data": {
            "text/plain": [
              "0"
            ]
          },
          "metadata": {},
          "execution_count": 3
        }
      ]
    },
    {
      "cell_type": "code",
      "source": [
        "print(\"Rishabh\")"
      ],
      "metadata": {
        "colab": {
          "base_uri": "https://localhost:8080/"
        },
        "id": "tmQ9SuAoKMNM",
        "outputId": "6c3d6b52-771e-4d3e-b3d6-fca8e508dc28"
      },
      "execution_count": null,
      "outputs": [
        {
          "output_type": "stream",
          "name": "stdout",
          "text": [
            "Rishabh\n"
          ]
        }
      ]
    },
    {
      "cell_type": "code",
      "source": [
        "age=32\n",
        "print(\"My age is :\",age)"
      ],
      "metadata": {
        "colab": {
          "base_uri": "https://localhost:8080/"
        },
        "id": "b12XdwQYKj1s",
        "outputId": "ed961a7a-78ed-4f6d-fb91-5f69dcb2bbf2"
      },
      "execution_count": null,
      "outputs": [
        {
          "output_type": "stream",
          "name": "stdout",
          "text": [
            "My age is : 32\n"
          ]
        }
      ]
    },
    {
      "cell_type": "code",
      "source": [
        "print(f\"My age is: {age}\")"
      ],
      "metadata": {
        "colab": {
          "base_uri": "https://localhost:8080/"
        },
        "id": "5eX3q4tOK2dT",
        "outputId": "e22af58f-8e98-4209-a216-122d9b5a9cab"
      },
      "execution_count": null,
      "outputs": [
        {
          "output_type": "stream",
          "name": "stdout",
          "text": [
            "My age is: 32\n"
          ]
        }
      ]
    },
    {
      "cell_type": "code",
      "source": [
        "name=\"Rishabh\"\n",
        "age=20\n",
        "print(\"My name is {} and My age is {}\".format(name,age))"
      ],
      "metadata": {
        "colab": {
          "base_uri": "https://localhost:8080/"
        },
        "id": "taDH9as3Lxzy",
        "outputId": "41a90c2a-dc2c-460c-e83b-472cf9cf6b51"
      },
      "execution_count": null,
      "outputs": [
        {
          "output_type": "stream",
          "name": "stdout",
          "text": [
            "My name is Rishabh and My age is 20\n"
          ]
        }
      ]
    },
    {
      "cell_type": "code",
      "source": [
        "print(\"My name is {firstname} and My age is {firstage}\".format(firstname = name,firstage = age))"
      ],
      "metadata": {
        "colab": {
          "base_uri": "https://localhost:8080/"
        },
        "id": "wMDLfxUIMgwQ",
        "outputId": "2f9376bd-c468-44ea-fae8-ea5ac1a83460"
      },
      "execution_count": null,
      "outputs": [
        {
          "output_type": "stream",
          "name": "stdout",
          "text": [
            "My name is Rishabh and My age is 20\n"
          ]
        }
      ]
    },
    {
      "cell_type": "code",
      "source": [
        "name=\"Rishaabh\"\n",
        "age=20\n",
        "degree=\"Btech\"\n",
        "print(\"My age is {firstage} and i have completed my degree : {firstdegree} at the name of {firstname}\".format(firstage = age, firstdegree = degree , firstname = name))"
      ],
      "metadata": {
        "colab": {
          "base_uri": "https://localhost:8080/"
        },
        "id": "edXJj8a-M8pj",
        "outputId": "edd58a1b-d354-46d1-f227-22e0261a1be4"
      },
      "execution_count": null,
      "outputs": [
        {
          "output_type": "stream",
          "name": "stdout",
          "text": [
            "My age is 20 and i have completed my degree : Btech at the name of Rishaabh\n"
          ]
        }
      ]
    },
    {
      "cell_type": "markdown",
      "source": [
        "## Control Flow\n",
        "## Decesion Making\n",
        "## 1 if\n",
        "## 2 if else\n",
        "## 3 if elif else\n",
        "## 4 Nested if\n",
        "## 5 Single statement suits"
      ],
      "metadata": {
        "id": "is9XSL0KOtIx"
      }
    },
    {
      "cell_type": "code",
      "source": [
        "age = 18\n",
        "if age >= 18:\n",
        "  print(\"eligible\")"
      ],
      "metadata": {
        "colab": {
          "base_uri": "https://localhost:8080/"
        },
        "id": "_Ivf8qANOT0M",
        "outputId": "9b9f2b82-cde9-45c2-aa42-e640fc49af52"
      },
      "execution_count": null,
      "outputs": [
        {
          "output_type": "stream",
          "name": "stdout",
          "text": [
            "eligible\n"
          ]
        }
      ]
    },
    {
      "cell_type": "code",
      "source": [
        "age = 18\n",
        "if age < 17:\n",
        "  print(\"Not eligible\")"
      ],
      "metadata": {
        "id": "i1tAtdjdP6-R"
      },
      "execution_count": null,
      "outputs": []
    },
    {
      "cell_type": "code",
      "source": [
        "input()"
      ],
      "metadata": {
        "colab": {
          "base_uri": "https://localhost:8080/",
          "height": 52
        },
        "id": "wKAN4WlNQY7p",
        "outputId": "f6fbf4fc-7561-4ff2-ec86-b662c4a4eae4"
      },
      "execution_count": null,
      "outputs": [
        {
          "name": "stdout",
          "output_type": "stream",
          "text": [
            "Rishabh\n"
          ]
        },
        {
          "output_type": "execute_result",
          "data": {
            "text/plain": [
              "'Rishabh'"
            ],
            "application/vnd.google.colaboratory.intrinsic+json": {
              "type": "string"
            }
          },
          "metadata": {},
          "execution_count": 18
        }
      ]
    },
    {
      "cell_type": "code",
      "source": [
        "age = 18\n",
        "if age < 17:\n",
        "  print(\"Not eligible\")"
      ],
      "metadata": {
        "id": "CnKWOiG6QCBe"
      },
      "execution_count": null,
      "outputs": []
    },
    {
      "cell_type": "code",
      "source": [
        "name=input(\"enter the name \")"
      ],
      "metadata": {
        "colab": {
          "base_uri": "https://localhost:8080/"
        },
        "id": "7sgrHRQWQkcH",
        "outputId": "ae9ab032-c561-4db7-d6dd-fe179f353bdb"
      },
      "execution_count": null,
      "outputs": [
        {
          "name": "stdout",
          "output_type": "stream",
          "text": [
            "enter the nameRishabh\n"
          ]
        }
      ]
    },
    {
      "cell_type": "code",
      "source": [
        "age=int(input(\"Enter the age\"))"
      ],
      "metadata": {
        "colab": {
          "base_uri": "https://localhost:8080/"
        },
        "id": "wIY3yhO0Qq7Q",
        "outputId": "4f74de67-a90c-46bd-ff29-3372262c49ba"
      },
      "execution_count": null,
      "outputs": [
        {
          "name": "stdout",
          "output_type": "stream",
          "text": [
            "Enter the age20\n"
          ]
        }
      ]
    },
    {
      "cell_type": "code",
      "source": [
        "type(age)"
      ],
      "metadata": {
        "colab": {
          "base_uri": "https://localhost:8080/"
        },
        "id": "XR5S6UBfQ2LK",
        "outputId": "4f0a2d08-85a7-471b-a78d-b2f2c166e422"
      },
      "execution_count": null,
      "outputs": [
        {
          "output_type": "execute_result",
          "data": {
            "text/plain": [
              "int"
            ]
          },
          "metadata": {},
          "execution_count": 21
        }
      ]
    },
    {
      "cell_type": "code",
      "source": [
        "age = int(input(\"Enter the age\"))\n",
        "if age>=18 & age<=45:\n",
        "  print(\"you are young enough\")"
      ],
      "metadata": {
        "colab": {
          "base_uri": "https://localhost:8080/"
        },
        "id": "flRIz4QqQ3ar",
        "outputId": "ad97a482-003d-40bb-bfd4-5253d137a343"
      },
      "execution_count": null,
      "outputs": [
        {
          "output_type": "stream",
          "name": "stdout",
          "text": [
            "Enter the age22\n",
            "you are young enough\n"
          ]
        }
      ]
    },
    {
      "cell_type": "code",
      "source": [
        "age = int(input(\"Enter the age\"))\n",
        "if age>=18 and age<=45:\n",
        "  print(\"you are young enough\")"
      ],
      "metadata": {
        "colab": {
          "base_uri": "https://localhost:8080/"
        },
        "id": "O04FZ0yeRrsI",
        "outputId": "4f4b3f8d-e321-4d89-9441-afc509a82517"
      },
      "execution_count": null,
      "outputs": [
        {
          "name": "stdout",
          "output_type": "stream",
          "text": [
            "Enter the age50\n"
          ]
        }
      ]
    },
    {
      "cell_type": "code",
      "source": [
        "age = int(input(\"Enter the age\"))\n",
        "if age>=18 and age<=45:\n",
        "  print(\"you are young enough\")"
      ],
      "metadata": {
        "colab": {
          "base_uri": "https://localhost:8080/"
        },
        "id": "6wa1uhEpR6oH",
        "outputId": "20755b8b-739b-42a1-d9c0-3027e2a88224"
      },
      "execution_count": null,
      "outputs": [
        {
          "output_type": "stream",
          "name": "stdout",
          "text": [
            "Enter the age22\n",
            "you are young enough\n"
          ]
        }
      ]
    },
    {
      "cell_type": "code",
      "source": [
        "22<=42"
      ],
      "metadata": {
        "colab": {
          "base_uri": "https://localhost:8080/"
        },
        "id": "w89fLMYbSDk5",
        "outputId": "21286192-e8a3-4af4-cf7c-4459a9de766e"
      },
      "execution_count": null,
      "outputs": [
        {
          "output_type": "execute_result",
          "data": {
            "text/plain": [
              "True"
            ]
          },
          "metadata": {},
          "execution_count": 27
        }
      ]
    },
    {
      "cell_type": "code",
      "source": [
        "22>=39\n"
      ],
      "metadata": {
        "colab": {
          "base_uri": "https://localhost:8080/"
        },
        "id": "In6x8T71SHDR",
        "outputId": "3682d018-2f86-44d7-c0cc-924d769a090d"
      },
      "execution_count": null,
      "outputs": [
        {
          "output_type": "execute_result",
          "data": {
            "text/plain": [
              "False"
            ]
          },
          "metadata": {},
          "execution_count": 28
        }
      ]
    },
    {
      "cell_type": "code",
      "source": [
        "age = int(input(\"Enter the age\"))\n",
        "if age>=18 and age<=45:\n",
        "  print(\"you are young enough\")\n",
        "else:\n",
        "  print(\"you are old\")"
      ],
      "metadata": {
        "colab": {
          "base_uri": "https://localhost:8080/"
        },
        "id": "X8UTKfOQSKB_",
        "outputId": "ac5727d6-4166-44a5-d817-2a446ec60edb"
      },
      "execution_count": null,
      "outputs": [
        {
          "output_type": "stream",
          "name": "stdout",
          "text": [
            "Enter the age50\n",
            "you are old\n"
          ]
        }
      ]
    },
    {
      "cell_type": "code",
      "source": [
        "product_price=int(input(\"Enter the price of product :\"))\n",
        "if product_price > 1000:\n",
        "  print(\"The price of the product is:{}\".format(product_price-(product_price*0.2)))\n",
        "else:\n",
        "  print(\"The product price is : {}\".format(product_price-(product_price*0.3)))"
      ],
      "metadata": {
        "colab": {
          "base_uri": "https://localhost:8080/"
        },
        "id": "0XDPYaPKSgMG",
        "outputId": "5b77bce0-3984-406c-f974-58d17b8fd590"
      },
      "execution_count": null,
      "outputs": [
        {
          "output_type": "stream",
          "name": "stdout",
          "text": [
            "Enter the price of product :1200\n",
            "The price of the product is:960.0\n"
          ]
        }
      ]
    },
    {
      "cell_type": "code",
      "source": [
        "product_price=int(input(\"Enter the price of the product\"))\n",
        "if product_price > 3000:\n",
        "  print(\"The price of the product is: {}\".format(product_price-(product_price*0.2)))\n",
        "elif product_price >= 2000 and product_price<=3000:\n",
        "  if product_price == 2999:\n",
        "    print(\"Congrats you haave buy fresh item\")\n",
        "  print(\"The price of the product is: {}\".format(product_price-(product_price*0.3)))\n",
        "elif product_price >=100 and product_price <= 1500:\n",
        "    print(\"The price of the product is: {}\".format(product_price-(product_price*0.25)))\n",
        "else:\n",
        "    print(\"The price of the product is: {}\".format(product_price-(product_price*0.4)))\n",
        "    print(\"I will also be there for purchase\")\n"
      ],
      "metadata": {
        "colab": {
          "base_uri": "https://localhost:8080/"
        },
        "id": "3WfUN65-TxwQ",
        "outputId": "a6ce529e-a53f-4ea0-9c22-cbb39c7c7e06"
      },
      "execution_count": null,
      "outputs": [
        {
          "output_type": "stream",
          "name": "stdout",
          "text": [
            "Enter the price of the product1\n",
            "The price of the product is: 0.6\n",
            "I will also be there for purchase\n"
          ]
        }
      ]
    },
    {
      "cell_type": "code",
      "source": [
        "val=int(input(\"Enter the value of product\"))\n",
        "if val <= 999 : print(\"The vlue is less than 999\")\n",
        "else:\n",
        "  print(\"no need to entertain\")"
      ],
      "metadata": {
        "colab": {
          "base_uri": "https://localhost:8080/"
        },
        "id": "kVqw_KuAWoE4",
        "outputId": "9175640e-0149-45ad-a399-393e3e77da91"
      },
      "execution_count": null,
      "outputs": [
        {
          "output_type": "stream",
          "name": "stdout",
          "text": [
            "Enter the value of product1200\n",
            "no need to entertain\n"
          ]
        }
      ]
    },
    {
      "cell_type": "markdown",
      "source": [
        "## Loops Sttement"
      ],
      "metadata": {
        "id": "nol9VN3Ca9St"
      }
    },
    {
      "cell_type": "code",
      "source": [
        "joining_age=25\n",
        "while joining_age <= 60:\n",
        "  joining_age = joining_age+1\n",
        "  print(joining_age)\n",
        "else:\n",
        "  print(\"Its time for retirement\")\n"
      ],
      "metadata": {
        "colab": {
          "base_uri": "https://localhost:8080/"
        },
        "id": "jtQ-Ss_wbDJH",
        "outputId": "983adb03-899d-46bf-e982-50518d86e1ca"
      },
      "execution_count": null,
      "outputs": [
        {
          "output_type": "stream",
          "name": "stdout",
          "text": [
            "26\n",
            "27\n",
            "28\n",
            "29\n",
            "30\n",
            "31\n",
            "32\n",
            "33\n",
            "34\n",
            "35\n",
            "36\n",
            "37\n",
            "38\n",
            "39\n",
            "40\n",
            "41\n",
            "42\n",
            "43\n",
            "44\n",
            "45\n",
            "46\n",
            "47\n",
            "48\n",
            "49\n",
            "50\n",
            "51\n",
            "52\n",
            "53\n",
            "54\n",
            "55\n",
            "56\n",
            "57\n",
            "58\n",
            "59\n",
            "60\n",
            "61\n",
            "Its time for retirement\n"
          ]
        }
      ]
    },
    {
      "cell_type": "code",
      "source": [
        "total_amount = 1000\n",
        "while total_amount != 0:\n",
        "  print(total_amount)\n",
        "  total_amount = total_amount - 100\n",
        "  # print(total_amount)\n",
        "else:\n",
        "  print(\"Give more money to the bank\")\n"
      ],
      "metadata": {
        "colab": {
          "base_uri": "https://localhost:8080/"
        },
        "id": "soVDWSw7cOM5",
        "outputId": "cd52a5b8-ed45-4215-fb38-fb220c0809a7"
      },
      "execution_count": null,
      "outputs": [
        {
          "output_type": "stream",
          "name": "stdout",
          "text": [
            "1000\n",
            "900\n",
            "800\n",
            "700\n",
            "600\n",
            "500\n",
            "400\n",
            "300\n",
            "200\n",
            "100\n",
            "Give more money to the bank\n"
          ]
        }
      ]
    },
    {
      "cell_type": "markdown",
      "source": [
        "For Loop\n"
      ],
      "metadata": {
        "id": "DUN76-Ehbxy6"
      }
    },
    {
      "cell_type": "code",
      "source": [
        "lst=[\"Rishabh\",!,2,\"Jain\"]"
      ],
      "metadata": {
        "colab": {
          "base_uri": "https://localhost:8080/",
          "height": 106
        },
        "id": "B_LNxw9Db2SZ",
        "outputId": "b3e312eb-44b1-4bc0-b8ca-a64e59ffd45c"
      },
      "execution_count": null,
      "outputs": [
        {
          "output_type": "error",
          "ename": "SyntaxError",
          "evalue": "invalid syntax (<ipython-input-1-7bf2f2979452>, line 1)",
          "traceback": [
            "\u001b[0;36m  File \u001b[0;32m\"<ipython-input-1-7bf2f2979452>\"\u001b[0;36m, line \u001b[0;32m1\u001b[0m\n\u001b[0;31m    lst=[\"Rishabh\",!,2,\"Jain\"]\u001b[0m\n\u001b[0m                   ^\u001b[0m\n\u001b[0;31mSyntaxError\u001b[0m\u001b[0;31m:\u001b[0m invalid syntax\n"
          ]
        }
      ]
    },
    {
      "cell_type": "code",
      "source": [
        "type(lst)"
      ],
      "metadata": {
        "colab": {
          "base_uri": "https://localhost:8080/",
          "height": 141
        },
        "id": "u5A80J0yccIc",
        "outputId": "1826b876-cf4e-4d0a-bd8c-d831a6c4e71e"
      },
      "execution_count": null,
      "outputs": [
        {
          "output_type": "error",
          "ename": "NameError",
          "evalue": "name 'lst' is not defined",
          "traceback": [
            "\u001b[0;31m---------------------------------------------------------------------------\u001b[0m",
            "\u001b[0;31mNameError\u001b[0m                                 Traceback (most recent call last)",
            "\u001b[0;32m<ipython-input-2-a0288cc34b64>\u001b[0m in \u001b[0;36m<cell line: 1>\u001b[0;34m()\u001b[0m\n\u001b[0;32m----> 1\u001b[0;31m \u001b[0mtype\u001b[0m\u001b[0;34m(\u001b[0m\u001b[0mlst\u001b[0m\u001b[0;34m)\u001b[0m\u001b[0;34m\u001b[0m\u001b[0;34m\u001b[0m\u001b[0m\n\u001b[0m",
            "\u001b[0;31mNameError\u001b[0m: name 'lst' is not defined"
          ]
        }
      ]
    },
    {
      "cell_type": "code",
      "source": [
        "lst=[\"Rishabh\",\"Jain\"]"
      ],
      "metadata": {
        "id": "dQVZmgqdcezI"
      },
      "execution_count": null,
      "outputs": []
    },
    {
      "cell_type": "code",
      "source": [
        "type(lst)"
      ],
      "metadata": {
        "colab": {
          "base_uri": "https://localhost:8080/"
        },
        "id": "glJv6JrucqyR",
        "outputId": "6fde5e32-9c19-4728-85ad-8f8cc0125785"
      },
      "execution_count": null,
      "outputs": [
        {
          "output_type": "execute_result",
          "data": {
            "text/plain": [
              "list"
            ]
          },
          "metadata": {},
          "execution_count": 4
        }
      ]
    },
    {
      "cell_type": "code",
      "source": [
        "lst[0]"
      ],
      "metadata": {
        "colab": {
          "base_uri": "https://localhost:8080/",
          "height": 35
        },
        "id": "QL9hcdMucsr4",
        "outputId": "9091a8ab-7142-4dde-987a-805fa1f847bc"
      },
      "execution_count": null,
      "outputs": [
        {
          "output_type": "execute_result",
          "data": {
            "text/plain": [
              "'Rishabh'"
            ],
            "application/vnd.google.colaboratory.intrinsic+json": {
              "type": "string"
            }
          },
          "metadata": {},
          "execution_count": 5
        }
      ]
    },
    {
      "cell_type": "code",
      "source": [
        "lst"
      ],
      "metadata": {
        "colab": {
          "base_uri": "https://localhost:8080/"
        },
        "id": "TrLFbvmfc0nc",
        "outputId": "65fa7e90-f60f-4f1b-b9a4-525b417dc023"
      },
      "execution_count": null,
      "outputs": [
        {
          "output_type": "execute_result",
          "data": {
            "text/plain": [
              "['Rishabh', 'Jain']"
            ]
          },
          "metadata": {},
          "execution_count": 6
        }
      ]
    },
    {
      "cell_type": "code",
      "source": [
        "for x in list:\n",
        "  print(x)"
      ],
      "metadata": {
        "colab": {
          "base_uri": "https://localhost:8080/",
          "height": 158
        },
        "id": "RHDyJMu2c7QQ",
        "outputId": "0340d803-ec47-4450-bdc8-27747249e2f6"
      },
      "execution_count": null,
      "outputs": [
        {
          "output_type": "error",
          "ename": "TypeError",
          "evalue": "'type' object is not iterable",
          "traceback": [
            "\u001b[0;31m---------------------------------------------------------------------------\u001b[0m",
            "\u001b[0;31mTypeError\u001b[0m                                 Traceback (most recent call last)",
            "\u001b[0;32m<ipython-input-7-6db638a07c1e>\u001b[0m in \u001b[0;36m<cell line: 1>\u001b[0;34m()\u001b[0m\n\u001b[0;32m----> 1\u001b[0;31m \u001b[0;32mfor\u001b[0m \u001b[0mx\u001b[0m \u001b[0;32min\u001b[0m \u001b[0mlist\u001b[0m\u001b[0;34m:\u001b[0m\u001b[0;34m\u001b[0m\u001b[0;34m\u001b[0m\u001b[0m\n\u001b[0m\u001b[1;32m      2\u001b[0m   \u001b[0mprint\u001b[0m\u001b[0;34m(\u001b[0m\u001b[0mx\u001b[0m\u001b[0;34m)\u001b[0m\u001b[0;34m\u001b[0m\u001b[0;34m\u001b[0m\u001b[0m\n",
            "\u001b[0;31mTypeError\u001b[0m: 'type' object is not iterable"
          ]
        }
      ]
    },
    {
      "cell_type": "code",
      "source": [
        "for x in lst:\n",
        "  print(x)"
      ],
      "metadata": {
        "colab": {
          "base_uri": "https://localhost:8080/"
        },
        "id": "yCJ0PtmTdQDz",
        "outputId": "4727d8fc-ef73-44ba-def1-26d90801a77f"
      },
      "execution_count": null,
      "outputs": [
        {
          "output_type": "stream",
          "name": "stdout",
          "text": [
            "Rishabh\n",
            "Jain\n"
          ]
        }
      ]
    },
    {
      "cell_type": "code",
      "source": [
        "fruit_list=[\"Rishabh\",\"Jain\",\"VIT\",\"Delhi\"]\n",
        "for x in fruit_list:\n",
        "  print(x)\n",
        "  if x==\"Bhopalk\":\n",
        "    print(\"the locaton is delhi\")"
      ],
      "metadata": {
        "colab": {
          "base_uri": "https://localhost:8080/"
        },
        "id": "rvMQe0rxdVAO",
        "outputId": "2f67fe05-f082-4f19-c15f-1c007d071715"
      },
      "execution_count": null,
      "outputs": [
        {
          "output_type": "stream",
          "name": "stdout",
          "text": [
            "Rishabh\n",
            "Jain\n",
            "VIT\n",
            "Delhi\n"
          ]
        }
      ]
    },
    {
      "cell_type": "code",
      "source": [
        "fruit_list=[\"Rishabh\",\"Jain\",\"VIT\",\"Delhi\"]"
      ],
      "metadata": {
        "id": "HzphsUDtd47Q"
      },
      "execution_count": null,
      "outputs": []
    },
    {
      "cell_type": "code",
      "source": [
        "for x in fruit_list:\n",
        "  print(x)\n",
        "  if x==\"Delhi\":\n",
        "    print(\"the locaton is delhi\")"
      ],
      "metadata": {
        "colab": {
          "base_uri": "https://localhost:8080/"
        },
        "id": "lAAI3WnpeFOf",
        "outputId": "99cada98-18eb-4859-cc7f-14a87e1b93ca"
      },
      "execution_count": null,
      "outputs": [
        {
          "output_type": "stream",
          "name": "stdout",
          "text": [
            "Rishabh\n",
            "Jain\n",
            "VIT\n",
            "Delhi\n",
            "the locaton is delhi\n"
          ]
        }
      ]
    },
    {
      "cell_type": "code",
      "source": [
        "for x in fruit_list:\n",
        "  print(x)\n",
        "  if x==\"Delhi\":\n",
        "    print(\"the locaton is delhi\")\n",
        "    break"
      ],
      "metadata": {
        "colab": {
          "base_uri": "https://localhost:8080/"
        },
        "id": "9RdVUBRxeGvP",
        "outputId": "5413adcb-c829-4602-896f-79ab3946b90d"
      },
      "execution_count": null,
      "outputs": [
        {
          "output_type": "stream",
          "name": "stdout",
          "text": [
            "Rishabh\n",
            "Jain\n",
            "VIT\n",
            "Delhi\n",
            "the locaton is delhi\n"
          ]
        }
      ]
    },
    {
      "cell_type": "code",
      "source": [
        "fruit='Rishabh'\n",
        "for x in fruit:\n",
        "  print(x)"
      ],
      "metadata": {
        "colab": {
          "base_uri": "https://localhost:8080/"
        },
        "id": "41uNcgPCefks",
        "outputId": "33572a1a-6a3f-4954-f8d7-fdf22cb98862"
      },
      "execution_count": null,
      "outputs": [
        {
          "output_type": "stream",
          "name": "stdout",
          "text": [
            "R\n",
            "i\n",
            "s\n",
            "h\n",
            "a\n",
            "b\n",
            "h\n"
          ]
        }
      ]
    },
    {
      "cell_type": "code",
      "source": [
        "fruit[3]"
      ],
      "metadata": {
        "colab": {
          "base_uri": "https://localhost:8080/",
          "height": 35
        },
        "id": "COqKJyqlewvX",
        "outputId": "ed23b4b1-36d4-4bc5-82f2-b353c027fdfd"
      },
      "execution_count": null,
      "outputs": [
        {
          "output_type": "execute_result",
          "data": {
            "text/plain": [
              "'h'"
            ],
            "application/vnd.google.colaboratory.intrinsic+json": {
              "type": "string"
            }
          },
          "metadata": {},
          "execution_count": 15
        }
      ]
    },
    {
      "cell_type": "code",
      "source": [
        "fruit='Rishabh'\n",
        "for x in fruit:\n",
        "  print(x,end=\"\")"
      ],
      "metadata": {
        "colab": {
          "base_uri": "https://localhost:8080/"
        },
        "id": "lbXmdBNCe7lC",
        "outputId": "b4062609-9658-4e12-c289-ab574deffd12"
      },
      "execution_count": null,
      "outputs": [
        {
          "output_type": "stream",
          "name": "stdout",
          "text": [
            "Rishabh"
          ]
        }
      ]
    },
    {
      "cell_type": "markdown",
      "source": [
        "Nested Lopps\n"
      ],
      "metadata": {
        "id": "5Z6Gae9vfLOP"
      }
    },
    {
      "cell_type": "code",
      "source": [
        "for i in range(1,10)"
      ],
      "metadata": {
        "colab": {
          "base_uri": "https://localhost:8080/",
          "height": 106
        },
        "id": "D3VI0wpGfNag",
        "outputId": "329f8ca4-98f1-45cc-9845-d7b67e089b1c"
      },
      "execution_count": null,
      "outputs": [
        {
          "output_type": "error",
          "ename": "SyntaxError",
          "evalue": "expected ':' (<ipython-input-17-ce98f891a02f>, line 1)",
          "traceback": [
            "\u001b[0;36m  File \u001b[0;32m\"<ipython-input-17-ce98f891a02f>\"\u001b[0;36m, line \u001b[0;32m1\u001b[0m\n\u001b[0;31m    for i in range(1,10)\u001b[0m\n\u001b[0m                        ^\u001b[0m\n\u001b[0;31mSyntaxError\u001b[0m\u001b[0;31m:\u001b[0m expected ':'\n"
          ]
        }
      ]
    },
    {
      "cell_type": "code",
      "source": [
        "for i in range(1.10):\n",
        "  print(i)"
      ],
      "metadata": {
        "colab": {
          "base_uri": "https://localhost:8080/",
          "height": 158
        },
        "id": "pCFhfvlvfl5w",
        "outputId": "e9fa5341-64cb-4e07-cc76-9cc9eb0eaf30"
      },
      "execution_count": null,
      "outputs": [
        {
          "output_type": "error",
          "ename": "TypeError",
          "evalue": "'float' object cannot be interpreted as an integer",
          "traceback": [
            "\u001b[0;31m---------------------------------------------------------------------------\u001b[0m",
            "\u001b[0;31mTypeError\u001b[0m                                 Traceback (most recent call last)",
            "\u001b[0;32m<ipython-input-18-c039feb16266>\u001b[0m in \u001b[0;36m<cell line: 1>\u001b[0;34m()\u001b[0m\n\u001b[0;32m----> 1\u001b[0;31m \u001b[0;32mfor\u001b[0m \u001b[0mi\u001b[0m \u001b[0;32min\u001b[0m \u001b[0mrange\u001b[0m\u001b[0;34m(\u001b[0m\u001b[0;36m1.10\u001b[0m\u001b[0;34m)\u001b[0m\u001b[0;34m:\u001b[0m\u001b[0;34m\u001b[0m\u001b[0;34m\u001b[0m\u001b[0m\n\u001b[0m\u001b[1;32m      2\u001b[0m   \u001b[0mprint\u001b[0m\u001b[0;34m(\u001b[0m\u001b[0mi\u001b[0m\u001b[0;34m)\u001b[0m\u001b[0;34m\u001b[0m\u001b[0;34m\u001b[0m\u001b[0m\n",
            "\u001b[0;31mTypeError\u001b[0m: 'float' object cannot be interpreted as an integer"
          ]
        }
      ]
    },
    {
      "cell_type": "code",
      "source": [
        "for i in range(1,10):\n",
        "  print(i)"
      ],
      "metadata": {
        "colab": {
          "base_uri": "https://localhost:8080/"
        },
        "id": "w2bdCMkDfpzd",
        "outputId": "708aba6f-b27e-4e30-b41b-a76d9b90e89f"
      },
      "execution_count": null,
      "outputs": [
        {
          "output_type": "stream",
          "name": "stdout",
          "text": [
            "1\n",
            "2\n",
            "3\n",
            "4\n",
            "5\n",
            "6\n",
            "7\n",
            "8\n",
            "9\n"
          ]
        }
      ]
    },
    {
      "cell_type": "code",
      "source": [
        "for i in range(1,10,2):\n",
        "  print(i)"
      ],
      "metadata": {
        "colab": {
          "base_uri": "https://localhost:8080/"
        },
        "id": "GwpPlyGCgGIy",
        "outputId": "74009ff5-999f-4490-bda1-6c3f29826207"
      },
      "execution_count": null,
      "outputs": [
        {
          "output_type": "stream",
          "name": "stdout",
          "text": [
            "1\n",
            "3\n",
            "5\n",
            "7\n",
            "9\n"
          ]
        }
      ]
    },
    {
      "cell_type": "code",
      "source": [
        "n = 7\n",
        "for i in range(0, n):\n",
        "    for j in range(0, i+1):\n",
        "        print(\"*\", end=\"\")\n",
        "    print(\"\\r\")\n"
      ],
      "metadata": {
        "colab": {
          "base_uri": "https://localhost:8080/"
        },
        "id": "Fw0gmO-Ngn4R",
        "outputId": "c4d4c042-0317-405b-cab7-177f32647e4d"
      },
      "execution_count": null,
      "outputs": [
        {
          "output_type": "stream",
          "name": "stdout",
          "text": [
            "*\r\n",
            "**\r\n",
            "***\r\n",
            "****\r\n",
            "*****\r\n",
            "******\r\n",
            "*******\r\n"
          ]
        }
      ]
    },
    {
      "cell_type": "code",
      "source": [
        "n=7\n",
        "for i in range(1, n + 1):\n",
        "\n",
        "        for j in range(n - i):\n",
        "            print(\" \", end=\"\")\n",
        "        for k in range(1, 2*i):\n",
        "            print(\"*\", end=\"\")\n",
        "        print()"
      ],
      "metadata": {
        "colab": {
          "base_uri": "https://localhost:8080/"
        },
        "id": "NdNZyeSegvQR",
        "outputId": "1783e6ea-d4d4-4851-943f-879d78478bd5"
      },
      "execution_count": null,
      "outputs": [
        {
          "output_type": "stream",
          "name": "stdout",
          "text": [
            "      *\n",
            "     ***\n",
            "    *****\n",
            "   *******\n",
            "  *********\n",
            " ***********\n",
            "*************\n"
          ]
        }
      ]
    },
    {
      "cell_type": "code",
      "source": [
        "name=[\"Rishabh\",\"Jain\",\"Bhopal\"]"
      ],
      "metadata": {
        "id": "36MoF_rOh6-q"
      },
      "execution_count": null,
      "outputs": []
    },
    {
      "cell_type": "code",
      "source": [
        "for i in name:\n",
        "  if i==\"Bhopal\":\n",
        "    print(\"the city is bhopl\")\n",
        "  print(i)"
      ],
      "metadata": {
        "colab": {
          "base_uri": "https://localhost:8080/"
        },
        "id": "dOXLjUiqj5Hu",
        "outputId": "8ecc4144-5e73-4447-efb7-018155f19d89"
      },
      "execution_count": null,
      "outputs": [
        {
          "output_type": "stream",
          "name": "stdout",
          "text": [
            "Rishabh\n",
            "Jain\n",
            "the city is bhopl\n",
            "Bhopal\n"
          ]
        }
      ]
    },
    {
      "cell_type": "code",
      "source": [
        "for i in name:\n",
        "  if i==\"Bhopal\":\n",
        "    print(\"the city is bhopl\")\n",
        "    break\n",
        "  print(i)"
      ],
      "metadata": {
        "colab": {
          "base_uri": "https://localhost:8080/"
        },
        "id": "U749lZgGkJHP",
        "outputId": "9d5a71c0-5668-4d64-ea90-c3e91c48919b"
      },
      "execution_count": null,
      "outputs": [
        {
          "output_type": "stream",
          "name": "stdout",
          "text": [
            "Rishabh\n",
            "Jain\n",
            "the city is bhopl\n"
          ]
        }
      ]
    },
    {
      "cell_type": "code",
      "source": [
        "for i in name:\n",
        "  if i==\"Bhopal\":\n",
        "    print(\"the city is bhopl\")\n",
        "    continue\n",
        "  print(i)"
      ],
      "metadata": {
        "colab": {
          "base_uri": "https://localhost:8080/"
        },
        "id": "RFJir0ujkbCT",
        "outputId": "6c3efda1-f592-429c-a043-10ba3cd6c525"
      },
      "execution_count": null,
      "outputs": [
        {
          "output_type": "stream",
          "name": "stdout",
          "text": [
            "Rishabh\n",
            "Jain\n",
            "the city is bhopl\n"
          ]
        }
      ]
    },
    {
      "cell_type": "code",
      "source": [
        "for i in name:\n",
        "  if i==\"Bhopal\":\n",
        "    print(\"the city is bhopl\")\n",
        "    continue\n",
        "\n",
        "  print(i)\n"
      ],
      "metadata": {
        "colab": {
          "base_uri": "https://localhost:8080/"
        },
        "id": "DaL_GGbekfFC",
        "outputId": "76378ff6-d252-455a-a77f-4e6e96947d16"
      },
      "execution_count": null,
      "outputs": [
        {
          "output_type": "stream",
          "name": "stdout",
          "text": [
            "Rishabh\n",
            "Jain\n",
            "the city is bhopl\n"
          ]
        }
      ]
    },
    {
      "cell_type": "markdown",
      "source": [
        "Logical Operator\n",
        "1. And\n",
        "2. or\n",
        "3. not"
      ],
      "metadata": {
        "id": "Bq0LEWt8r-6z"
      }
    },
    {
      "cell_type": "code",
      "source": [
        "true and true"
      ],
      "metadata": {
        "colab": {
          "base_uri": "https://localhost:8080/",
          "height": 141
        },
        "id": "ZklcaTw9sBvV",
        "outputId": "3af10890-fe25-4df8-e0c0-78a3230ac53a"
      },
      "execution_count": null,
      "outputs": [
        {
          "output_type": "error",
          "ename": "NameError",
          "evalue": "name 'true' is not defined",
          "traceback": [
            "\u001b[0;31m---------------------------------------------------------------------------\u001b[0m",
            "\u001b[0;31mNameError\u001b[0m                                 Traceback (most recent call last)",
            "\u001b[0;32m<ipython-input-35-87bcf4dd4d8f>\u001b[0m in \u001b[0;36m<cell line: 1>\u001b[0;34m()\u001b[0m\n\u001b[0;32m----> 1\u001b[0;31m \u001b[0mtrue\u001b[0m \u001b[0;32mand\u001b[0m \u001b[0mtrue\u001b[0m\u001b[0;34m\u001b[0m\u001b[0;34m\u001b[0m\u001b[0m\n\u001b[0m",
            "\u001b[0;31mNameError\u001b[0m: name 'true' is not defined"
          ]
        }
      ]
    },
    {
      "cell_type": "code",
      "source": [
        "  True and True"
      ],
      "metadata": {
        "colab": {
          "base_uri": "https://localhost:8080/"
        },
        "id": "0Q-SN9Pkss-x",
        "outputId": "cc340b29-e08a-4bba-db92-89f1a6093ce0"
      },
      "execution_count": null,
      "outputs": [
        {
          "output_type": "execute_result",
          "data": {
            "text/plain": [
              "True"
            ]
          },
          "metadata": {},
          "execution_count": 36
        }
      ]
    },
    {
      "cell_type": "code",
      "source": [
        "True or Faalse"
      ],
      "metadata": {
        "colab": {
          "base_uri": "https://localhost:8080/"
        },
        "id": "k_QKOz55sy1T",
        "outputId": "75e62aab-05f7-4a6a-decb-c1ffadd1cd4c"
      },
      "execution_count": null,
      "outputs": [
        {
          "output_type": "execute_result",
          "data": {
            "text/plain": [
              "True"
            ]
          },
          "metadata": {},
          "execution_count": 37
        }
      ]
    },
    {
      "cell_type": "code",
      "source": [
        "True or False"
      ],
      "metadata": {
        "colab": {
          "base_uri": "https://localhost:8080/"
        },
        "id": "O1hH8XA5s183",
        "outputId": "aec8edba-bb79-4f10-84e2-f7c422565f9a"
      },
      "execution_count": null,
      "outputs": [
        {
          "output_type": "execute_result",
          "data": {
            "text/plain": [
              "True"
            ]
          },
          "metadata": {},
          "execution_count": 38
        }
      ]
    },
    {
      "cell_type": "code",
      "source": [
        "START = True\n",
        "STOP = False\n",
        "\n",
        "print(f\"Defined the value of START = {START}\")\n",
        "print(f\"Defined the value of STOP={STOP}\\n\")\n",
        "\n",
        "print(f\"Defined the value of START = {START}\")\n",
        "print(f\"Value of STOP negating START={not START}\\n\")\n",
        "\n",
        "print(f\"Value of START negating STOP={not STOP}\\n\")\n",
        "print(f\"Defined the value of STOP={STOP}\\n\")\n"
      ],
      "metadata": {
        "colab": {
          "base_uri": "https://localhost:8080/"
        },
        "id": "8y48w6qXs40i",
        "outputId": "c95fc245-da76-4968-8f1a-1dcde57283b3"
      },
      "execution_count": null,
      "outputs": [
        {
          "output_type": "stream",
          "name": "stdout",
          "text": [
            "Defined the value of START = True\n",
            "Defined the value of STOP=False\n",
            "\n",
            "Defined the value of START = True\n",
            "Value of STOP negating START=False\n",
            "\n",
            "Value of START negating STOP=True\n",
            "\n",
            "Defined the value of STOP=False\n",
            "\n"
          ]
        }
      ]
    },
    {
      "cell_type": "code",
      "source": [
        "not (True)"
      ],
      "metadata": {
        "colab": {
          "base_uri": "https://localhost:8080/"
        },
        "id": "bkabDRWCt7E1",
        "outputId": "95c93b54-31ec-4d47-e535-838eb3d0a07e"
      },
      "execution_count": null,
      "outputs": [
        {
          "output_type": "execute_result",
          "data": {
            "text/plain": [
              "False"
            ]
          },
          "metadata": {},
          "execution_count": 40
        }
      ]
    },
    {
      "cell_type": "code",
      "source": [
        "not bool(0)"
      ],
      "metadata": {
        "colab": {
          "base_uri": "https://localhost:8080/"
        },
        "id": "meDHn8g7uE-1",
        "outputId": "4bdf899f-13de-41e9-8cb5-798d30e8329b"
      },
      "execution_count": null,
      "outputs": [
        {
          "output_type": "execute_result",
          "data": {
            "text/plain": [
              "True"
            ]
          },
          "metadata": {},
          "execution_count": 41
        }
      ]
    },
    {
      "cell_type": "code",
      "source": [
        "int (bool(0))"
      ],
      "metadata": {
        "colab": {
          "base_uri": "https://localhost:8080/"
        },
        "id": "64X85AiouGtP",
        "outputId": "0c5e40f6-5b18-4751-8715-6661c5929ca2"
      },
      "execution_count": null,
      "outputs": [
        {
          "output_type": "execute_result",
          "data": {
            "text/plain": [
              "0"
            ]
          },
          "metadata": {},
          "execution_count": 42
        }
      ]
    },
    {
      "cell_type": "code",
      "source": [
        "not int(bool(1))"
      ],
      "metadata": {
        "colab": {
          "base_uri": "https://localhost:8080/"
        },
        "id": "1hsZAxY2uOwM",
        "outputId": "803c5db4-4ea3-4b5c-b256-081ed339444f"
      },
      "execution_count": null,
      "outputs": [
        {
          "output_type": "execute_result",
          "data": {
            "text/plain": [
              "False"
            ]
          },
          "metadata": {},
          "execution_count": 43
        }
      ]
    },
    {
      "cell_type": "code",
      "source": [
        " not 0"
      ],
      "metadata": {
        "colab": {
          "base_uri": "https://localhost:8080/"
        },
        "id": "mFmCu0o5uWU_",
        "outputId": "d734973f-05f4-4d71-b75b-24e5891df91c"
      },
      "execution_count": null,
      "outputs": [
        {
          "output_type": "execute_result",
          "data": {
            "text/plain": [
              "True"
            ]
          },
          "metadata": {},
          "execution_count": 44
        }
      ]
    },
    {
      "cell_type": "code",
      "source": [
        "not 1"
      ],
      "metadata": {
        "colab": {
          "base_uri": "https://localhost:8080/"
        },
        "id": "hmtEcbpKuZ_u",
        "outputId": "24e0b9d6-97a8-484d-bdaf-c48667d24712"
      },
      "execution_count": null,
      "outputs": [
        {
          "output_type": "execute_result",
          "data": {
            "text/plain": [
              "False"
            ]
          },
          "metadata": {},
          "execution_count": 45
        }
      ]
    },
    {
      "cell_type": "code",
      "source": [
        "int (not 0)"
      ],
      "metadata": {
        "colab": {
          "base_uri": "https://localhost:8080/"
        },
        "id": "e-KgUzEjub_P",
        "outputId": "76dcb3f2-d8df-4fb3-eb90-2bafeb4f8c05"
      },
      "execution_count": null,
      "outputs": [
        {
          "output_type": "execute_result",
          "data": {
            "text/plain": [
              "1"
            ]
          },
          "metadata": {},
          "execution_count": 46
        }
      ]
    },
    {
      "cell_type": "code",
      "source": [
        "int (not 1)"
      ],
      "metadata": {
        "colab": {
          "base_uri": "https://localhost:8080/"
        },
        "id": "S-AGIulAuhF1",
        "outputId": "68dc67bb-cd9f-4ebd-88cc-58e04491dff3"
      },
      "execution_count": null,
      "outputs": [
        {
          "output_type": "execute_result",
          "data": {
            "text/plain": [
              "0"
            ]
          },
          "metadata": {},
          "execution_count": 47
        }
      ]
    },
    {
      "cell_type": "code",
      "source": [
        "int (not 2)"
      ],
      "metadata": {
        "colab": {
          "base_uri": "https://localhost:8080/"
        },
        "id": "KuZOG0h_ujbC",
        "outputId": "fe912fd6-3bdc-4222-a334-7cb65f5558b6"
      },
      "execution_count": null,
      "outputs": [
        {
          "output_type": "execute_result",
          "data": {
            "text/plain": [
              "0"
            ]
          },
          "metadata": {},
          "execution_count": 48
        }
      ]
    },
    {
      "cell_type": "code",
      "source": [
        "int (not 3)"
      ],
      "metadata": {
        "colab": {
          "base_uri": "https://localhost:8080/"
        },
        "id": "dHtf__a5umLH",
        "outputId": "007f3a76-7246-4c9e-815b-478534c92408"
      },
      "execution_count": null,
      "outputs": [
        {
          "output_type": "execute_result",
          "data": {
            "text/plain": [
              "0"
            ]
          },
          "metadata": {},
          "execution_count": 49
        }
      ]
    },
    {
      "cell_type": "code",
      "source": [
        "not 2"
      ],
      "metadata": {
        "colab": {
          "base_uri": "https://localhost:8080/"
        },
        "id": "q_73FaGoupVs",
        "outputId": "0ef1911d-8007-4703-8a94-f96abb8f4a94"
      },
      "execution_count": null,
      "outputs": [
        {
          "output_type": "execute_result",
          "data": {
            "text/plain": [
              "False"
            ]
          },
          "metadata": {},
          "execution_count": 50
        }
      ]
    },
    {
      "cell_type": "code",
      "source": [
        "not 0"
      ],
      "metadata": {
        "colab": {
          "base_uri": "https://localhost:8080/"
        },
        "id": "vTO6yrhEuyGG",
        "outputId": "2b2dd0fb-6102-41b4-c77b-419c6443d18d"
      },
      "execution_count": null,
      "outputs": [
        {
          "output_type": "execute_result",
          "data": {
            "text/plain": [
              "True"
            ]
          },
          "metadata": {},
          "execution_count": 51
        }
      ]
    },
    {
      "cell_type": "code",
      "source": [
        "not -1\n"
      ],
      "metadata": {
        "colab": {
          "base_uri": "https://localhost:8080/"
        },
        "id": "-LQJU_UXuzXn",
        "outputId": "670a9b6c-ef40-4cc1-8209-44db1149b294"
      },
      "execution_count": null,
      "outputs": [
        {
          "output_type": "execute_result",
          "data": {
            "text/plain": [
              "False"
            ]
          },
          "metadata": {},
          "execution_count": 52
        }
      ]
    },
    {
      "cell_type": "code",
      "source": [
        "START = 1\n",
        "STOP = 0\n",
        "\n",
        "print(f\"Defined the value of START = {START}\")\n",
        "print(f\"Defined the value of STOP={STOP}\\n\")\n",
        "\n",
        "print(f\"Defined the value of START = {START}\")\n",
        "print(f\"Value of STOP negating START={not START}\\n\")\n",
        "\n",
        "print(f\"Value of START negating STOP={not STOP}\\n\")\n",
        "print(f\"Defined the value of STOP={STOP}\\n\")"
      ],
      "metadata": {
        "colab": {
          "base_uri": "https://localhost:8080/"
        },
        "id": "pXddLdEDu4QT",
        "outputId": "8a7e3bc7-4960-4b5c-a7c7-7cb5091646ae"
      },
      "execution_count": null,
      "outputs": [
        {
          "output_type": "stream",
          "name": "stdout",
          "text": [
            "Defined the value of START = 1\n",
            "Defined the value of STOP=0\n",
            "\n",
            "Defined the value of START = 1\n",
            "Value of STOP negating START=False\n",
            "\n",
            "Value of START negating STOP=True\n",
            "\n",
            "Defined the value of STOP=0\n",
            "\n"
          ]
        }
      ]
    },
    {
      "cell_type": "code",
      "source": [
        "zero = 0\n",
        "one = 1\n",
        "\n",
        "print(f\"boolean value of no.{zero} is {bool(zero)}\")\n",
        "print(f\"boolean value of no.{one} is {bool(one)}\")\n",
        "print(f\"negation of {zero} aand negation of {one} is {not one}\")\n",
        "print(\"\\n----------------#\\n\")"
      ],
      "metadata": {
        "colab": {
          "base_uri": "https://localhost:8080/"
        },
        "id": "909pjj6hvBTx",
        "outputId": "f69680bb-0cfb-4034-ee14-1c34c5c323a8"
      },
      "execution_count": null,
      "outputs": [
        {
          "output_type": "stream",
          "name": "stdout",
          "text": [
            "boolean value of no.0 is False\n",
            "boolean value of no.1 is True\n",
            "negation of 0 aand negation of 1 is False\n",
            "\n",
            "----------------#\n",
            "\n"
          ]
        }
      ]
    },
    {
      "cell_type": "code",
      "source": [
        "n_int = -5\n",
        "p_int = 5\n",
        "\n",
        "print(f\"boolean value of no .{n_int} is {bool(p_int)}\")\n",
        "print(f\"boolean value of no .{p_int} is {bool(n_int)}\")\n",
        "print(f\"boolean value of no.{n_int} is {not n_int} \\\n",
        "and negation of {p_int} is {not p_int}\")"
      ],
      "metadata": {
        "colab": {
          "base_uri": "https://localhost:8080/"
        },
        "id": "FvqrpjPtvtMR",
        "outputId": "9d1f89d2-26d4-4a88-8c2e-f62490d57a10"
      },
      "execution_count": null,
      "outputs": [
        {
          "output_type": "stream",
          "name": "stdout",
          "text": [
            "boolean value of no .-5 is True\n",
            "boolean value of no .5 is True\n",
            "boolean value of no.-5 is False and negation of 5 is False\n"
          ]
        }
      ]
    },
    {
      "cell_type": "code",
      "source": [
        "n_int = -5.99\n",
        "p_int = 5.12\n",
        "\n",
        "print(f\"boolean value of no .{n_int} is {bool(p_int)}\")\n",
        "print(f\"boolean value of no .{p_int} is {bool(n_int)}\")\n",
        "print(f\"boolean value of no.{n_int} is {not n_int} \\\n",
        "and negation of {p_int} is {not p_int}\")"
      ],
      "metadata": {
        "colab": {
          "base_uri": "https://localhost:8080/"
        },
        "id": "p-8tzRiiw8br",
        "outputId": "e429b191-3ec4-4e5b-e65d-c3e08a542354"
      },
      "execution_count": null,
      "outputs": [
        {
          "output_type": "stream",
          "name": "stdout",
          "text": [
            "boolean value of no .-5.99 is True\n",
            "boolean value of no .5.12 is True\n",
            "boolean value of no.-5.99 is False and negation of 5.12 is False\n"
          ]
        }
      ]
    },
    {
      "cell_type": "markdown",
      "source": [
        "Logical AND\n"
      ],
      "metadata": {
        "id": "7aDSmknAxICu"
      }
    },
    {
      "cell_type": "code",
      "source": [
        "VEGETABLE = True\n",
        "SALT = False\n",
        "DISH = VEGETABLE and SALT\n",
        "\n",
        "print(f\"Dish Contains is:{VEGETABLE}\")\n",
        "print(f\"Dish contain is:{SALT}\")\n",
        "print(f\"Dis made from two VEGETABLE and SALT is : {DISH}\\n\")"
      ],
      "metadata": {
        "colab": {
          "base_uri": "https://localhost:8080/"
        },
        "id": "xeIhapZbxMoo",
        "outputId": "4776bcbd-73d8-402b-b489-44abfaa1addc"
      },
      "execution_count": null,
      "outputs": [
        {
          "output_type": "stream",
          "name": "stdout",
          "text": [
            "Dish Contains is:True\n",
            "Dish contain is:False\n",
            "Dis made from two VEGETABLE and SALT is : False\n",
            "\n"
          ]
        }
      ]
    },
    {
      "cell_type": "code",
      "source": [
        "False*True"
      ],
      "metadata": {
        "colab": {
          "base_uri": "https://localhost:8080/"
        },
        "id": "V-mlofcwzgzk",
        "outputId": "59eb26e3-d2c6-405e-905e-aec2b354ecc0"
      },
      "execution_count": null,
      "outputs": [
        {
          "output_type": "execute_result",
          "data": {
            "text/plain": [
              "0"
            ]
          },
          "metadata": {},
          "execution_count": 59
        }
      ]
    },
    {
      "cell_type": "code",
      "source": [
        "(not False)*True"
      ],
      "metadata": {
        "colab": {
          "base_uri": "https://localhost:8080/"
        },
        "id": "hidX2iuCzr65",
        "outputId": "6443c924-5144-4b89-909f-974451387aeb"
      },
      "execution_count": null,
      "outputs": [
        {
          "output_type": "execute_result",
          "data": {
            "text/plain": [
              "1"
            ]
          },
          "metadata": {},
          "execution_count": 60
        }
      ]
    },
    {
      "cell_type": "code",
      "source": [
        "False * (not(False))"
      ],
      "metadata": {
        "colab": {
          "base_uri": "https://localhost:8080/"
        },
        "id": "oyoIzscHzv7e",
        "outputId": "7c3ced70-3dd5-457f-f9dc-367d59b2b1c5"
      },
      "execution_count": null,
      "outputs": [
        {
          "output_type": "execute_result",
          "data": {
            "text/plain": [
              "0"
            ]
          },
          "metadata": {},
          "execution_count": 61
        }
      ]
    },
    {
      "cell_type": "code",
      "source": [
        "True * False"
      ],
      "metadata": {
        "colab": {
          "base_uri": "https://localhost:8080/"
        },
        "id": "G0TCbqc6z4Eq",
        "outputId": "e4b7f7d2-19f7-4afa-b003-cb12bf09594e"
      },
      "execution_count": null,
      "outputs": [
        {
          "output_type": "execute_result",
          "data": {
            "text/plain": [
              "0"
            ]
          },
          "metadata": {},
          "execution_count": 62
        }
      ]
    },
    {
      "cell_type": "code",
      "source": [
        "(not True) * False"
      ],
      "metadata": {
        "colab": {
          "base_uri": "https://localhost:8080/"
        },
        "id": "Yqru2fCXz8Of",
        "outputId": "d65d766a-e435-4c81-9cef-251abe466f20"
      },
      "execution_count": null,
      "outputs": [
        {
          "output_type": "execute_result",
          "data": {
            "text/plain": [
              "0"
            ]
          },
          "metadata": {},
          "execution_count": 63
        }
      ]
    },
    {
      "cell_type": "code",
      "source": [
        "(not True) * (not False)"
      ],
      "metadata": {
        "colab": {
          "base_uri": "https://localhost:8080/"
        },
        "id": "11flbJb30AN2",
        "outputId": "c7a91c11-d73b-400c-dc48-2ff38e18bd5e"
      },
      "execution_count": null,
      "outputs": [
        {
          "output_type": "execute_result",
          "data": {
            "text/plain": [
              "0"
            ]
          },
          "metadata": {},
          "execution_count": 64
        }
      ]
    },
    {
      "cell_type": "code",
      "source": [
        "1+2*3"
      ],
      "metadata": {
        "colab": {
          "base_uri": "https://localhost:8080/"
        },
        "id": "MGR0VnA80Emn",
        "outputId": "591829e2-cc9e-436f-e33d-3f6a832ab77a"
      },
      "execution_count": null,
      "outputs": [
        {
          "output_type": "execute_result",
          "data": {
            "text/plain": [
              "7"
            ]
          },
          "metadata": {},
          "execution_count": 65
        }
      ]
    },
    {
      "cell_type": "code",
      "source": [
        "(1+2)*3"
      ],
      "metadata": {
        "colab": {
          "base_uri": "https://localhost:8080/"
        },
        "id": "ARK7HhaC0Qab",
        "outputId": "82697c5b-da78-4612-93d3-cd0c56035389"
      },
      "execution_count": null,
      "outputs": [
        {
          "output_type": "execute_result",
          "data": {
            "text/plain": [
              "9"
            ]
          },
          "metadata": {},
          "execution_count": 66
        }
      ]
    },
    {
      "cell_type": "code",
      "source": [
        "not False * False == True"
      ],
      "metadata": {
        "colab": {
          "base_uri": "https://localhost:8080/"
        },
        "id": "3goymKiX0TE0",
        "outputId": "8deedd01-cba9-44a1-bebe-bfdcd7c9e654"
      },
      "execution_count": null,
      "outputs": [
        {
          "output_type": "execute_result",
          "data": {
            "text/plain": [
              "True"
            ]
          },
          "metadata": {},
          "execution_count": 67
        }
      ]
    },
    {
      "cell_type": "code",
      "source": [
        "a = 10\n",
        "b = 5\n",
        "\n",
        "if a > 5 or b > 5:\n",
        "    print(\"At least one condition is True\")\n",
        "else:\n",
        "    print(\"Both conditions are False\")"
      ],
      "metadata": {
        "id": "F4L6KTlq0hUO",
        "colab": {
          "base_uri": "https://localhost:8080/"
        },
        "outputId": "16d7dd4f-cea5-4f52-ba7f-ed6db0c01076"
      },
      "execution_count": null,
      "outputs": [
        {
          "output_type": "stream",
          "name": "stdout",
          "text": [
            "At least one condition is True\n"
          ]
        }
      ]
    },
    {
      "cell_type": "code",
      "source": [
        "x = False\n",
        "y = True\n",
        "\n",
        "if x or y:\n",
        "    print(\"Either x or y is True\")\n",
        "else:\n",
        "    print(\"Both x and y are False\")"
      ],
      "metadata": {
        "colab": {
          "base_uri": "https://localhost:8080/"
        },
        "id": "PZJ8anOANcny",
        "outputId": "76de7693-9bae-442d-ce4f-df403d898d6c"
      },
      "execution_count": null,
      "outputs": [
        {
          "output_type": "stream",
          "name": "stdout",
          "text": [
            "Either x or y is True\n"
          ]
        }
      ]
    },
    {
      "cell_type": "code",
      "source": [
        "num1 = 0\n",
        "num2 = 20\n",
        "\n",
        "result = num1 or num2\n",
        "print(f\"Result is: {result}\")"
      ],
      "metadata": {
        "colab": {
          "base_uri": "https://localhost:8080/"
        },
        "id": "Zu27PomeNjov",
        "outputId": "c46a13be-75b1-43a5-f1b6-dab9c6ea213f"
      },
      "execution_count": null,
      "outputs": [
        {
          "output_type": "stream",
          "name": "stdout",
          "text": [
            "Result is: 20\n"
          ]
        }
      ]
    },
    {
      "cell_type": "markdown",
      "source": [
        "Logical NOT\n"
      ],
      "metadata": {
        "id": "_nscU-vWN2Nt"
      }
    },
    {
      "cell_type": "code",
      "source": [
        "a = True\n",
        "\n",
        "if not a:\n",
        "    print(\"a is False\")\n",
        "else:\n",
        "    print(\"a is True\")"
      ],
      "metadata": {
        "colab": {
          "base_uri": "https://localhost:8080/"
        },
        "id": "bObuVD5jN5-9",
        "outputId": "84754db6-9f00-411a-b3be-74c409919b54"
      },
      "execution_count": null,
      "outputs": [
        {
          "output_type": "stream",
          "name": "stdout",
          "text": [
            "a is True\n"
          ]
        }
      ]
    },
    {
      "cell_type": "code",
      "source": [
        "age = 18\n",
        "\n",
        "if not age < 18:\n",
        "    print(\"You are an adult\")\n",
        "else:\n",
        "    print(\"You are a minor\")"
      ],
      "metadata": {
        "colab": {
          "base_uri": "https://localhost:8080/"
        },
        "id": "ezmNWvnMN8by",
        "outputId": "69238a6c-ddc6-4df3-d2f0-f4554adcc609"
      },
      "execution_count": null,
      "outputs": [
        {
          "output_type": "stream",
          "name": "stdout",
          "text": [
            "You are an adult\n"
          ]
        }
      ]
    },
    {
      "cell_type": "code",
      "source": [
        "text = \"\"\n",
        "\n",
        "if not text:\n",
        "    print(\"The string is empty\")\n",
        "else:\n",
        "    print(\"The string is not empty\")"
      ],
      "metadata": {
        "colab": {
          "base_uri": "https://localhost:8080/"
        },
        "id": "VIjgq2KiN-2G",
        "outputId": "8f4db469-2ffa-4377-b2ba-eef528be306e"
      },
      "execution_count": null,
      "outputs": [
        {
          "output_type": "stream",
          "name": "stdout",
          "text": [
            "The string is empty\n"
          ]
        }
      ]
    },
    {
      "cell_type": "markdown",
      "source": [
        "Function"
      ],
      "metadata": {
        "id": "mhybRrcCOb3t"
      }
    },
    {
      "cell_type": "code",
      "source": [
        "def greet(name):\n",
        "    return f\"Hello, {name}!\"\n",
        "\n",
        "print(greet(\"Rishabh\"))"
      ],
      "metadata": {
        "colab": {
          "base_uri": "https://localhost:8080/"
        },
        "id": "De6V-cFCOdh1",
        "outputId": "db1e9913-7275-4f73-8e8b-52c52c5d5fdf"
      },
      "execution_count": null,
      "outputs": [
        {
          "output_type": "stream",
          "name": "stdout",
          "text": [
            "Hello, Rishabh!\n"
          ]
        }
      ]
    },
    {
      "cell_type": "code",
      "source": [
        "my_list = [1, 2, 3, 4]\n",
        "print(my_list[2])\n",
        "#List\n"
      ],
      "metadata": {
        "colab": {
          "base_uri": "https://localhost:8080/"
        },
        "id": "GWEwAOVROfKH",
        "outputId": "2b554371-8b54-4cda-e6a8-05cb1884c7f0"
      },
      "execution_count": null,
      "outputs": [
        {
          "output_type": "stream",
          "name": "stdout",
          "text": [
            "3\n"
          ]
        }
      ]
    },
    {
      "cell_type": "code",
      "source": [
        "my_tuple = (1, 2, 3)\n",
        "print(my_tuple[1])\n",
        "\n",
        "#Tuple"
      ],
      "metadata": {
        "colab": {
          "base_uri": "https://localhost:8080/"
        },
        "id": "fOhI185tOiIJ",
        "outputId": "3e4e2aa5-1b80-4933-f3d1-f7cb6932ebf3"
      },
      "execution_count": null,
      "outputs": [
        {
          "output_type": "stream",
          "name": "stdout",
          "text": [
            "2\n"
          ]
        }
      ]
    },
    {
      "cell_type": "code",
      "source": [
        "my_set = {1, 2, 3, 3}\n",
        "print(my_set)\n",
        "\n",
        "#Set\n"
      ],
      "metadata": {
        "colab": {
          "base_uri": "https://localhost:8080/"
        },
        "id": "TLOdqEq5OoCW",
        "outputId": "733aef7b-3f59-431c-d005-22a5fbffbbce"
      },
      "execution_count": null,
      "outputs": [
        {
          "output_type": "stream",
          "name": "stdout",
          "text": [
            "{1, 2, 3}\n"
          ]
        }
      ]
    },
    {
      "cell_type": "code",
      "source": [
        "my_dict = {\"name\": \"Rishabh\", \"age\": 22}\n",
        "print(my_dict[\"name\"])\n",
        "\n",
        "#Dictoniery\n"
      ],
      "metadata": {
        "colab": {
          "base_uri": "https://localhost:8080/"
        },
        "id": "3OQzYeInOwFp",
        "outputId": "98f984a3-ebee-4b5e-f33b-d13e9d78e9a3"
      },
      "execution_count": null,
      "outputs": [
        {
          "output_type": "stream",
          "name": "stdout",
          "text": [
            "Rishabh\n"
          ]
        }
      ]
    },
    {
      "cell_type": "code",
      "source": [
        "numbers = [1, 2, 3, 4]\n",
        "squares = [n**2 for n in numbers]\n",
        "print(squares)\n"
      ],
      "metadata": {
        "colab": {
          "base_uri": "https://localhost:8080/"
        },
        "id": "R5fDDN0AO1Hy",
        "outputId": "b639bea7-eacb-4165-e40e-c930dd49461a"
      },
      "execution_count": null,
      "outputs": [
        {
          "output_type": "stream",
          "name": "stdout",
          "text": [
            "[1, 4, 9, 16]\n"
          ]
        }
      ]
    },
    {
      "cell_type": "markdown",
      "source": [
        "OOPS Concept\n"
      ],
      "metadata": {
        "id": "xiqPWdoqS6fu"
      }
    },
    {
      "cell_type": "markdown",
      "source": [
        "Claases in Python\n"
      ],
      "metadata": {
        "id": "v3Ogn1jvTBJM"
      }
    },
    {
      "cell_type": "code",
      "source": [
        "class Dog:\n",
        "    def __init__(self, name, age):\n",
        "        self.name = name\n",
        "        self.age = age\n",
        "\n",
        "    def bark(self):\n",
        "        return f\"{self.name} is barking!\"\n",
        "\n",
        "\n",
        "dog1 = Dog(\"Buddy\", 3)\n",
        "print(dog1.bark())\n"
      ],
      "metadata": {
        "colab": {
          "base_uri": "https://localhost:8080/"
        },
        "id": "wnq7O6AUTFSl",
        "outputId": "8e383d11-70a0-4d9d-d088-3aefc580d49c"
      },
      "execution_count": null,
      "outputs": [
        {
          "output_type": "stream",
          "name": "stdout",
          "text": [
            "Buddy is barking!\n"
          ]
        }
      ]
    },
    {
      "cell_type": "code",
      "source": [
        "class Car:\n",
        "    def __init__(self, brand, model):\n",
        "        self.brand = brand\n",
        "        self.model = model\n",
        "\n",
        "    def description(self):\n",
        "        return f\"Car: {self.brand} {self.model}\"\n",
        "\n",
        "car1 = Car(\"Toyota\", \"Corolla\")\n",
        "print(car1.description())\n"
      ],
      "metadata": {
        "colab": {
          "base_uri": "https://localhost:8080/"
        },
        "id": "7mVte3_WTi1B",
        "outputId": "814e7ae6-e21b-4200-cbb8-291a29b9be1c"
      },
      "execution_count": null,
      "outputs": [
        {
          "output_type": "stream",
          "name": "stdout",
          "text": [
            "Car: Toyota Corolla\n"
          ]
        }
      ]
    },
    {
      "cell_type": "code",
      "source": [
        "class Person:\n",
        "    def __init__(self, name, age):\n",
        "        self.name = name\n",
        "        self.age = age\n",
        "\n",
        "    def greet(self):\n",
        "        return f\"Hello, my name is {self.name} and I am {self.age} years old.\"\n",
        "\n",
        "person1 = Person(\"Rishabh\", 22)\n",
        "print(person1.greet())\n"
      ],
      "metadata": {
        "colab": {
          "base_uri": "https://localhost:8080/"
        },
        "id": "gZ2x8dNXUcBu",
        "outputId": "00827c6d-eb0d-40a6-9fdb-712580587a00"
      },
      "execution_count": null,
      "outputs": [
        {
          "output_type": "stream",
          "name": "stdout",
          "text": [
            "Hello, my name is Rishabh and I am 22 years old.\n"
          ]
        }
      ]
    },
    {
      "cell_type": "markdown",
      "source": [
        "Objects in Python\n"
      ],
      "metadata": {
        "id": "sQKyGZmgXFyB"
      }
    },
    {
      "cell_type": "code",
      "source": [
        "class Laptop:\n",
        "    def __init__(self, brand, price):\n",
        "        self.brand = brand\n",
        "        self.price = price\n",
        "\n",
        "laptop1 = Laptop(\"Dell\", 50000)\n",
        "print(laptop1.brand, laptop1.price)\n"
      ],
      "metadata": {
        "colab": {
          "base_uri": "https://localhost:8080/"
        },
        "id": "xJ3saSfPXLd8",
        "outputId": "85bd3a7b-0a90-4dfa-a024-892b2229defa"
      },
      "execution_count": null,
      "outputs": [
        {
          "output_type": "stream",
          "name": "stdout",
          "text": [
            "Dell 50000\n"
          ]
        }
      ]
    },
    {
      "cell_type": "code",
      "source": [
        "class Book:\n",
        "    def __init__(self, title, author):\n",
        "        self.title = title\n",
        "        self.author = author\n",
        "\n",
        "book1 = Book(\"1984\", \"George Orwell\")\n",
        "print(f\"Book: {book1.title} by {book1.author}\")\n"
      ],
      "metadata": {
        "colab": {
          "base_uri": "https://localhost:8080/"
        },
        "id": "OjCFmBB4XN74",
        "outputId": "91e1ae66-ff50-4885-a9db-b206f2eef2ad"
      },
      "execution_count": null,
      "outputs": [
        {
          "output_type": "stream",
          "name": "stdout",
          "text": [
            "Book: 1984 by George Orwell\n"
          ]
        }
      ]
    },
    {
      "cell_type": "code",
      "source": [
        "class Phone:\n",
        "    def __init__(self, brand, model):\n",
        "        self.brand = brand\n",
        "        self.model = model\n",
        "\n",
        "phone1 = Phone(\"Apple\", \"iPhone 12\")\n",
        "print(f\"Phone: {phone1.brand} {phone1.model}\")\n"
      ],
      "metadata": {
        "colab": {
          "base_uri": "https://localhost:8080/"
        },
        "id": "eXcJQs8UX8sR",
        "outputId": "5ccbfdb6-5610-4207-eacd-5b574089d80c"
      },
      "execution_count": null,
      "outputs": [
        {
          "output_type": "stream",
          "name": "stdout",
          "text": [
            "Phone: Apple iPhone 12\n"
          ]
        }
      ]
    },
    {
      "cell_type": "markdown",
      "source": [
        "Polymorphisim in python"
      ],
      "metadata": {
        "id": "vvl-6__Aa1bM"
      }
    },
    {
      "cell_type": "code",
      "source": [
        "class Bird:\n",
        "    def sound(self):\n",
        "        return \"Chirp!\"\n",
        "\n",
        "class Dog:\n",
        "    def sound(self):\n",
        "        return \"Bark!\"\n",
        "\n",
        "def make_sound(animal):\n",
        "    print(animal.sound())\n",
        "\n",
        "bird = Bird()\n",
        "dog = Dog()\n",
        "make_sound(bird)\n",
        "make_sound(dog)\n"
      ],
      "metadata": {
        "colab": {
          "base_uri": "https://localhost:8080/"
        },
        "id": "x-Ya01mwa4lA",
        "outputId": "c9034f0d-018e-4f1f-c798-68d7e2c101f8"
      },
      "execution_count": null,
      "outputs": [
        {
          "output_type": "stream",
          "name": "stdout",
          "text": [
            "Chirp!\n",
            "Bark!\n"
          ]
        }
      ]
    },
    {
      "cell_type": "code",
      "source": [
        "class Car:\n",
        "    def model(self):\n",
        "        return \"Defender!\"\n",
        "\n",
        "class Brand:\n",
        "    def model(self):\n",
        "        return \"Range Rover!\"\n",
        "\n",
        "def make_model(drive):\n",
        "    print(drive.model())\n",
        "\n",
        "car = Car()\n",
        "brand = Brand()\n",
        "\n",
        "make_model(car)\n",
        "make_model(brand)\n"
      ],
      "metadata": {
        "colab": {
          "base_uri": "https://localhost:8080/"
        },
        "id": "mIaapMPva-kP",
        "outputId": "e0214173-7414-4223-9ab5-494f2860f899"
      },
      "execution_count": null,
      "outputs": [
        {
          "output_type": "stream",
          "name": "stdout",
          "text": [
            "Defender!\n",
            "Range Rover!\n"
          ]
        }
      ]
    },
    {
      "cell_type": "markdown",
      "source": [
        "Polymorphisim with inheritance\n"
      ],
      "metadata": {
        "id": "gXSKw1wVcTdo"
      }
    },
    {
      "cell_type": "code",
      "source": [
        "class Shape:\n",
        "    def area(self):\n",
        "        pass\n",
        "\n",
        "class Circle(Shape):\n",
        "    def __init__(self, radius):\n",
        "        self.radius = radius\n",
        "\n",
        "    def area(self):\n",
        "        return 3.14 * self.radius * self.radius\n",
        "\n",
        "class Rectangle(Shape):\n",
        "    def __init__(self, width, height):\n",
        "        self.width = width\n",
        "        self.height = height\n",
        "\n",
        "    def area(self):\n",
        "        return self.width * self.height\n",
        "\n",
        "circle = Circle(5)\n",
        "rectangle = Rectangle(4, 5)\n",
        "\n",
        "print(circle.area())\n",
        "print(rectangle.area())\n"
      ],
      "metadata": {
        "colab": {
          "base_uri": "https://localhost:8080/"
        },
        "id": "dhbmjt0rcZww",
        "outputId": "4008d575-4454-49fa-a29f-4ddaa3f84fbc"
      },
      "execution_count": null,
      "outputs": [
        {
          "output_type": "stream",
          "name": "stdout",
          "text": [
            "78.5\n",
            "20\n"
          ]
        }
      ]
    },
    {
      "cell_type": "code",
      "source": [],
      "metadata": {
        "id": "D4LYyoPXciFy"
      },
      "execution_count": null,
      "outputs": []
    },
    {
      "cell_type": "markdown",
      "source": [
        "Polymorphisim with function"
      ],
      "metadata": {
        "id": "PXirdLtCfX5-"
      }
    },
    {
      "cell_type": "code",
      "source": [
        "class Cat:\n",
        "    def sound(self):\n",
        "        return \"Meow\"\n",
        "\n",
        "class Cow:\n",
        "    def sound(self):\n",
        "        return \"Moo\"\n",
        "\n",
        "animals = [Cat(), Cow()]\n",
        "\n",
        "for animal in animals:\n",
        "    print(animal.sound())\n"
      ],
      "metadata": {
        "colab": {
          "base_uri": "https://localhost:8080/"
        },
        "id": "byQKHP4IfawE",
        "outputId": "00c8041d-9fc1-4072-e1ae-4a056c8656d5"
      },
      "execution_count": null,
      "outputs": [
        {
          "output_type": "stream",
          "name": "stdout",
          "text": [
            "Meow\n",
            "Moo\n"
          ]
        }
      ]
    },
    {
      "cell_type": "markdown",
      "source": [
        "Encapsulation in python\n"
      ],
      "metadata": {
        "id": "n2rNUBzRgpR-"
      }
    },
    {
      "cell_type": "code",
      "source": [
        "#Using Private Attributes\n",
        "class Employee:\n",
        "    def __init__(self, name, salary):\n",
        "        self.name = name\n",
        "        self.__salary = salary\n",
        "\n",
        "    def get_salary(self):\n",
        "        return self.__salary\n",
        "\n",
        "emp1 = Employee(\"John\", 50000)\n",
        "print(emp1.get_salary())\n"
      ],
      "metadata": {
        "colab": {
          "base_uri": "https://localhost:8080/"
        },
        "id": "OgxtY4bfgqJ_",
        "outputId": "8a148db5-1051-4de3-f523-fb256e30abc0"
      },
      "execution_count": null,
      "outputs": [
        {
          "output_type": "stream",
          "name": "stdout",
          "text": [
            "50000\n"
          ]
        }
      ]
    },
    {
      "cell_type": "code",
      "source": [
        "#Using Private Methods\n",
        "\n",
        "class Robot:\n",
        "    def __init__(self):\n",
        "        self.__code = \"12345\"\n",
        "\n",
        "    def __start(self):\n",
        "        print(\"Robot started.\")\n",
        "\n",
        "    def public_start(self):\n",
        "        self.__start()\n",
        "\n",
        "robot1 = Robot()\n",
        "robot1.public_start()\n"
      ],
      "metadata": {
        "colab": {
          "base_uri": "https://localhost:8080/"
        },
        "id": "VZdKOpO3gtAo",
        "outputId": "e689d643-064d-43b4-b089-7e60eafc3761"
      },
      "execution_count": null,
      "outputs": [
        {
          "output_type": "stream",
          "name": "stdout",
          "text": [
            "Robot started.\n"
          ]
        }
      ]
    },
    {
      "cell_type": "code",
      "source": [],
      "metadata": {
        "id": "4LyN0zetg4vg"
      },
      "execution_count": null,
      "outputs": []
    },
    {
      "cell_type": "code",
      "source": [],
      "metadata": {
        "id": "e1StaZ4fjG2c"
      },
      "execution_count": null,
      "outputs": []
    }
  ]
}